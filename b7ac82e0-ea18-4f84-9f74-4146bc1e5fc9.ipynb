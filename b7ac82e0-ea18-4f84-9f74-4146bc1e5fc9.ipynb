{
 "cells": [
  {
   "cell_type": "code",
   "execution_count": 1,
   "id": "middle-fairy",
   "metadata": {
    "scrolled": true
   },
   "outputs": [
    {
     "data": {
      "text/plain": [
       "['$RECYCLE.BIN',\n",
       " '1_1.sql',\n",
       " '1_2.sql',\n",
       " '517C4300',\n",
       " 'CodeTime',\n",
       " 'Config.Msi',\n",
       " 'Program_Data',\n",
       " 'System Volume Information',\n",
       " 'tink1.xlsx',\n",
       " 'tink_tab.xls',\n",
       " 'VB',\n",
       " '~$tink1.xlsx',\n",
       " 'ПАМЯТЬ',\n",
       " 'ПГАС осень 2020',\n",
       " 'резюме',\n",
       " 'Репетство',\n",
       " 'СТУДКОМ',\n",
       " 'учёба',\n",
       " 'Экзоатлет']"
      ]
     },
     "execution_count": 1,
     "metadata": {},
     "output_type": "execute_result"
    }
   ],
   "source": [
    "# Import `os` \n",
    "import os\n",
    "\n",
    "# Retrieve current working directory (`cwd`)\n",
    "cwd = os.getcwd()\n",
    "cwd\n",
    "\n",
    "# Change directory \n",
    "os.chdir(\"D:\")\n",
    "\n",
    "# List all files and directories in current directory\n",
    "os.listdir('.')"
   ]
  },
  {
   "cell_type": "code",
   "execution_count": 52,
   "id": "deluxe-chess",
   "metadata": {},
   "outputs": [],
   "source": [
    "def stolb_diag(y):\n",
    "    x = np.arange(0, 4)\n",
    "    fig, ax = plt.subplots()\n",
    "    ax.bar(x[0], y[0],label= '<22')\n",
    "    ax.bar(x[1], y[1],label='22-30')\n",
    "    ax.bar(x[2], y[2],label='30-55')\n",
    "    ax.bar(x[3], y[3],label='>55')\n",
    "    ax.set_facecolor('seashell')\n",
    "    fig.set_facecolor('floralwhite')\n",
    "    ax.set_xlabel('Age')\n",
    "    ax.set_ylabel('Utilization')\n",
    "    fig.set_figwidth(12)    #  ширина Figure\n",
    "    fig.set_figheight(6)    #  высота Figure\n",
    "    plt.legend()\n",
    "    plt.show()"
   ]
  },
  {
   "cell_type": "code",
   "execution_count": 53,
   "id": "canadian-diabetes",
   "metadata": {},
   "outputs": [
    {
     "data": {
      "image/png": "[encoded data removed]",
      "text/plain": [
       "<Figure size 864x432 with 1 Axes>"
      ]
     },
     "metadata": {},
     "output_type": "display_data"
    }
   ],
   "source": [
    "from openpyxl import load_workbook\n",
    "import datetime\n",
    "import numpy as np\n",
    "import matplotlib.pyplot as plt\n",
    "\n",
    "wb = load_workbook('./tink1.xlsx')\n",
    "sheet = wb['Лист1']\n",
    "purchase_amt=[[cell.value for cell in cellObj] for cellObj in sheet['F2':'F2378']]\n",
    "birth_dt =[[(cell.value).strftime(\"%Y\") for cell in cellObj] for cellObj in sheet['B2':'B2378'] ] \n",
    "#int\n",
    "birth_dt = [2020-int(item[0]) for item in birth_dt]\n",
    "for item in purchase_amt:\n",
    "    if item[0]==None:\n",
    "        item[0] = \"0\"\n",
    "purchase_amt=[int(item[0]) for item in purchase_amt]\n",
    "a=[0,0,0,0]#массив утилизации по каждой из 4х возрастных групп  < 22, 22-30, 30-55, >55\n",
    "for i in range(0,len(birth_dt)):\n",
    "    if purchase_amt[i]!=0:\n",
    "        if birth_dt[i]<22:\n",
    "            a[0]=a[0]+1\n",
    "        if birth_dt[i]>=22 and birth_dt[i]<30:\n",
    "            a[1]=a[1]+1\n",
    "        if birth_dt[i]>30 and birth_dt[i]<55:\n",
    "            a[2]=a[2]+1\n",
    "        if birth_dt[i]>=55:\n",
    "            a[3]=a[3]+1\n",
    "stolb_diag(a)"
   ]
  }
 ],
 "metadata": {
  "kernelspec": {
   "display_name": "Python 3",
   "language": "python",
   "name": "python3"
  },
  "language_info": {
   "codemirror_mode": {
    "name": "ipython",
    "version": 3
   },
   "file_extension": ".py",
   "mimetype": "text/x-python",
   "name": "python",
   "nbconvert_exporter": "python",
   "pygments_lexer": "ipython3",
   "version": "3.9.2"
  }
 },
 "nbformat": 4,
 "nbformat_minor": 5
}
